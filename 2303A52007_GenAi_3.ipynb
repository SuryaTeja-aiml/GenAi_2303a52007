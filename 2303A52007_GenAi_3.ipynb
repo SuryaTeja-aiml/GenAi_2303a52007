{
  "nbformat": 4,
  "nbformat_minor": 0,
  "metadata": {
    "colab": {
      "provenance": [],
      "authorship_tag": "ABX9TyPTXU6+YLJMCUUl+TEa31c+",
      "include_colab_link": true
    },
    "kernelspec": {
      "name": "python3",
      "display_name": "Python 3"
    },
    "language_info": {
      "name": "python"
    }
  },
  "cells": [
    {
      "cell_type": "markdown",
      "metadata": {
        "id": "view-in-github",
        "colab_type": "text"
      },
      "source": [
        "<a href=\"https://colab.research.google.com/github/SuryaTeja-aiml/GenAi_2303a52007/blob/main/2303A52007_GenAi_3.ipynb\" target=\"_parent\"><img src=\"https://colab.research.google.com/assets/colab-badge.svg\" alt=\"Open In Colab\"/></a>"
      ]
    },
    {
      "cell_type": "markdown",
      "source": [
        "1.Write Python code without using any libraries to find the value of x at which the function f(x) shown in equation has minimum value. Consider Gradient Descent Algorithm.\n",
        "\n",
        " f(x) = 5x^4 +3x^2 + 10"
      ],
      "metadata": {
        "id": "cL62sNaWY5e3"
      }
    },
    {
      "cell_type": "code",
      "source": [
        "def f(x):\n",
        "    return 5*x**4 + 3*x**2 + 10\n",
        "def df(x):\n",
        "    return 20*x**3 + 6*x\n",
        "def gradient_descent(learning_rate, precision, max_iterations):\n",
        "    x = 1.0\n",
        "    for i in range(max_iterations):\n",
        "        gradient = df(x)\n",
        "        new_x = x - learning_rate * gradient\n",
        "        if abs(new_x - x) < precision:\n",
        "            break\n",
        "        x = new_x\n",
        "    return x\n",
        "\n",
        "learning_rate = 0.01\n",
        "precision = 1e-6\n",
        "max_iterations = 10000\n",
        "\n",
        "minimum_x = gradient_descent(learning_rate, precision, max_iterations)\n",
        "print(\"The value of x at which the function has a minimum value is:\", minimum_x)"
      ],
      "metadata": {
        "id": "82Xqam4rdwpM",
        "colab": {
          "base_uri": "https://localhost:8080/"
        },
        "outputId": "94646cb5-801f-4a41-ffba-29ad02b8ea7a"
      },
      "execution_count": 1,
      "outputs": [
        {
          "output_type": "stream",
          "name": "stdout",
          "text": [
            "The value of x at which the function has a minimum value is: 1.63586104206045e-05\n"
          ]
        }
      ]
    },
    {
      "cell_type": "markdown",
      "source": [
        "2.Write Python code without using any libraries to find the value of x and y at which the\n",
        " function g(x,y) shown in equation has minimum value. Consider Gradient Descent Algorithm.\n",
        "\n",
        " f(x) = 3x^2 + 5e^-y + 10"
      ],
      "metadata": {
        "id": "gVxXc6HyNJah"
      }
    },
    {
      "cell_type": "code",
      "source": [
        "def gradient_descent(alpha, iterations):\n",
        "    x, y = 0.0, 0.0\n",
        "\n",
        "    for _ in range(iterations):\n",
        "        dg_dx = 6 * x\n",
        "        dg_dy = -5 * (2.71828 ** -y)\n",
        "\n",
        "        x = x - alpha * dg_dx\n",
        "        y = y - alpha * dg_dy\n",
        "\n",
        "    return x, y, 3 * x ** 2 + 5 * (2.71828 ** -y) + 10\n",
        "\n",
        "learning_rate = 0.01\n",
        "num_iterations = 1000\n",
        "\n",
        "x_min, y_min, g_min = gradient_descent(learning_rate, num_iterations)\n",
        "\n",
        "print(f\"Minimum value of g(x, y): {g_min}\")\n",
        "print(f\"Value of x at minimum: {x_min}\")\n",
        "print(f\"Value of y at minimum: {y_min}\")"
      ],
      "metadata": {
        "colab": {
          "base_uri": "https://localhost:8080/"
        },
        "id": "xsnoifSrOWg1",
        "outputId": "876ddf52-172d-4815-a67f-17df08644850"
      },
      "execution_count": 2,
      "outputs": [
        {
          "output_type": "stream",
          "name": "stdout",
          "text": [
            "Minimum value of g(x, y): 10.097849796058027\n",
            "Value of x at minimum: 0.0\n",
            "Value of y at minimum: 3.933762227862872\n"
          ]
        }
      ]
    },
    {
      "cell_type": "markdown",
      "source": [
        "3.Write Python code without using any libraries to find the value of x at which the sigmoid function z(x) shown in equation has minimum value. Consider Gradient Descent Algorithm.\n",
        "\n",
        "z(x) = 1/(1+e^-x)"
      ],
      "metadata": {
        "id": "uUUUqjquQF-K"
      }
    },
    {
      "cell_type": "code",
      "source": [
        "def gradient_descent_sigmoid(alpha, iterations):\n",
        "    x = 0.0\n",
        "\n",
        "    for _ in range(iterations):\n",
        "        z_x = 1 / (1 + (2.71828 ** -x))\n",
        "        dz_dx = z_x * (1 - z_x)\n",
        "\n",
        "        x = x - alpha * dz_dx\n",
        "\n",
        "    return x, 1 / (1 + (2.71828 ** -x))\n",
        "\n",
        "learning_rate = 0.01\n",
        "num_iterations = 1000\n",
        "\n",
        "x_min, z_min = gradient_descent_sigmoid(learning_rate, num_iterations)\n",
        "print(f\"Value of x at convergence: {x_min}\")\n",
        "print(f\"Sigmoid value at convergence: {z_min}\")"
      ],
      "metadata": {
        "colab": {
          "base_uri": "https://localhost:8080/"
        },
        "id": "FWuUe3lGQbmu",
        "outputId": "72b39be0-cdd9-468f-a925-5ee4bd04a9c8"
      },
      "execution_count": 3,
      "outputs": [
        {
          "output_type": "stream",
          "name": "stdout",
          "text": [
            "Value of x at convergence: -1.8618359316575634\n",
            "Sigmoid value at convergence: 0.13448934843175162\n"
          ]
        }
      ]
    },
    {
      "cell_type": "markdown",
      "source": [
        "4.Write Python code without using any libraries to find the value of optimal values of\n",
        " model parameters M and C such that the model’s Square Error Value shown in equation will\n",
        " be minimum. It means model gives output close to expected output as shown in Figure\n",
        "\n",
        " SE = (ExpectedOutput - PredictedOutput)^2"
      ],
      "metadata": {
        "id": "rxQnHciHQ3HP"
      }
    },
    {
      "cell_type": "markdown",
      "source": [
        "![image.png](data:image/png;base64,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)"
      ],
      "metadata": {
        "id": "RIWt_a9aQ4em"
      }
    },
    {
      "cell_type": "code",
      "source": [
        "input_value = 2\n",
        "expected_output = 0.5\n",
        "M = 0.0\n",
        "C = 0.0\n",
        "learning_rate = 0.01\n",
        "\n",
        "def predict(input_value, M, C):\n",
        "    return (M * input_value) + C\n",
        "\n",
        "def square_error(expected, predicted):\n",
        "    return (expected - predicted) ** 2\n",
        "\n",
        "for epoch in range(10000):\n",
        "    predicted_output = predict(input_value, M, C)\n",
        "    error = square_error(expected_output, predicted_output)\n",
        "    dM = -2 * input_value * (expected_output - predicted_output)\n",
        "    dC = -2 * (expected_output - predicted_output)\n",
        "    M -= learning_rate * dM\n",
        "    C -= learning_rate * dC\n",
        "    if error < 1e-6:\n",
        "        break\n",
        "\n",
        "print(\"Optimal M:\", M)\n",
        "print(\"Optimal C:\", C)\n",
        "print(\"Final Square Error:\", error)\n"
      ],
      "metadata": {
        "colab": {
          "base_uri": "https://localhost:8080/"
        },
        "id": "2lZaUfLUR7Qg",
        "outputId": "ffe5eb6e-6641-4e5b-8553-be055130ce35"
      },
      "execution_count": 4,
      "outputs": [
        {
          "output_type": "stream",
          "name": "stdout",
          "text": [
            "Optimal M: 0.19964059794001712\n",
            "Optimal C: 0.09982029897000856\n",
            "Final Square Error: 9.966808697526092e-07\n"
          ]
        }
      ]
    }
  ]
}