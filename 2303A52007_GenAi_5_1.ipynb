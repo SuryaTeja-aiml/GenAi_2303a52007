{
  "nbformat": 4,
  "nbformat_minor": 0,
  "metadata": {
    "colab": {
      "provenance": [],
      "authorship_tag": "ABX9TyOtuz9FESgCxOIkYrnShfKR",
      "include_colab_link": true
    },
    "kernelspec": {
      "name": "python3",
      "display_name": "Python 3"
    },
    "language_info": {
      "name": "python"
    }
  },
  "cells": [
    {
      "cell_type": "markdown",
      "metadata": {
        "id": "view-in-github",
        "colab_type": "text"
      },
      "source": [
        "<a href=\"https://colab.research.google.com/github/SuryaTeja-aiml/GenAi_2303a52007/blob/main/2303A52007_GenAi_5_1.ipynb\" target=\"_parent\"><img src=\"https://colab.research.google.com/assets/colab-badge.svg\" alt=\"Open In Colab\"/></a>"
      ]
    },
    {
      "cell_type": "markdown",
      "source": [
        "# Multi-Layer ANN Design and Backpropagation\n",
        "\n",
        "### **1. (1 ponto) Design a multi-layer ANN architecture**\n",
        "Design a multi-layer ANN with:\n",
        "- **One input layer** with two neurons (x1, x2)\n",
        "- **One hidden layer** with a sigmoid activation function\n",
        "- **One output layer** with a linear activation function\n",
        "\n",
        "### **2. Implement Backpropagation**\n",
        "Write Python code for a **backpropagation algorithm** with **gradient descent** optimization to update the weights and bias parameters using the given training data.\n",
        "\n",
        "### **3. Calculate Mean Square Error (MSE)**\n",
        "Compute the **MSE** using both the training and testing datasets.\n",
        "\n",
        "### **4. Predict Output for User Input**\n",
        "Write a Python script that:\n",
        "- Reads input values `[x1, x2]` from the user.\n",
        "- Uses the trained ANN to predict the output.\n",
        "\n",
        "---\n",
        "\n",
        "## **Training Data (Table 1)**\n",
        "| x1  | x2  | y     |\n",
        "|-----|-----|-------|\n",
        "| 0.1 | 0.2 | 0.3432 |\n",
        "| 0.2 | 0.3 | 0.3490 |\n",
        "| 0.3 | 0.4 | 0.3548 |\n",
        "| 0.6 | 0.7 | 0.3720 |\n",
        "| 0.7 | 0.8 | 0.3776 |\n",
        "| 0.8 | 0.9 | 0.3832 |\n",
        "\n",
        "---\n",
        "\n",
        "## **Test Data (Table 2)**\n",
        "| x1  | x2  | y     |\n",
        "|-----|-----|-------|\n",
        "| 0.4 | 0.5 | 0.3606 |\n",
        "| 0.5 | 0.6 | 0.3663 |\n"
      ],
      "metadata": {
        "id": "1RQGwwOSz5Fs"
      }
    },
    {
      "cell_type": "code",
      "execution_count": 9,
      "metadata": {
        "id": "ur8Sy9LKz4YW"
      },
      "outputs": [],
      "source": [
        "import numpy as np\n",
        "\n",
        "def sigmoid(z):\n",
        "    return 1 / (1 + np.exp(-z))\n",
        "\n",
        "def sigmoid_derivative(a):\n",
        "    return a * (1 - a)"
      ]
    },
    {
      "cell_type": "code",
      "source": [
        "input_dim = 2\n",
        "hidden_dim = 4\n",
        "output_dim = 1"
      ],
      "metadata": {
        "id": "cqAlf3xY0kLe"
      },
      "execution_count": 10,
      "outputs": []
    },
    {
      "cell_type": "code",
      "source": [
        "np.random.seed(42)\n",
        "W1 = np.random.randn(input_dim, hidden_dim)\n",
        "b1 = np.random.randn(1, hidden_dim)\n",
        "W2 = np.random.randn(hidden_dim, output_dim)\n",
        "b2 = np.random.randn(1, output_dim)"
      ],
      "metadata": {
        "id": "dBGXED0i0yz_"
      },
      "execution_count": 11,
      "outputs": []
    },
    {
      "cell_type": "code",
      "source": [
        "X_train = np.array([[0.1, 0.2],\n",
        "                    [0.2, 0.3],\n",
        "                    [0.3, 0.4],\n",
        "                    [0.6, 0.7],\n",
        "                    [0.7, 0.8],\n",
        "                    [0.8, 0.9]])\n",
        "y_train = np.array([[0.3432],\n",
        "                    [0.3490],\n",
        "                    [0.3548],\n",
        "                    [0.3720],\n",
        "                    [0.3776],\n",
        "                    [0.3832]])\n",
        "\n",
        "X_test = np.array([[0.4, 0.5],\n",
        "                   [0.5, 0.6]])\n",
        "y_test = np.array([[0.3606],\n",
        "                   [0.3663]])\n",
        "\n",
        "learning_rate = 0.1\n",
        "epochs = 10000"
      ],
      "metadata": {
        "id": "KPNSpY9A08c_"
      },
      "execution_count": 12,
      "outputs": []
    },
    {
      "cell_type": "code",
      "source": [
        "for epoch in range(epochs):\n",
        "    z1 = np.dot(X_train, W1) + b1\n",
        "    a1 = sigmoid(z1)\n",
        "    z2 = np.dot(a1, W2) + b2\n",
        "    a2 = z2\n",
        "\n",
        "    error = a2 - y_train\n",
        "    mse = np.mean(error ** 2)\n",
        "\n",
        "    d_a2 = error\n",
        "    dW2 = np.dot(a1.T, d_a2) / X_train.shape[0]\n",
        "    db2 = np.sum(d_a2, axis=0, keepdims=True) / X_train.shape[0]\n",
        "\n",
        "    d_a1 = np.dot(d_a2, W2.T)\n",
        "    d_z1 = d_a1 * sigmoid_derivative(a1)\n",
        "    dW1 = np.dot(X_train.T, d_z1) / X_train.shape[0]\n",
        "    db1 = np.sum(d_z1, axis=0, keepdims=True) / X_train.shape[0]\n",
        "\n",
        "    W2 -= learning_rate * dW2\n",
        "    b2 -= learning_rate * db2\n",
        "    W1 -= learning_rate * dW1\n",
        "    b1 -= learning_rate * db1\n",
        "\n",
        "    if (epoch + 1) % 1000 == 0:\n",
        "        print(f\"Epoch {epoch+1}/{epochs} - Training MSE: {mse:.6f}\")"
      ],
      "metadata": {
        "colab": {
          "base_uri": "https://localhost:8080/"
        },
        "id": "RIcGRdLj1E_V",
        "outputId": "aa5933be-9d63-4f32-fdec-ad4a5b1f7a59"
      },
      "execution_count": 13,
      "outputs": [
        {
          "output_type": "stream",
          "name": "stdout",
          "text": [
            "Epoch 1000/10000 - Training MSE: 0.000006\n",
            "Epoch 2000/10000 - Training MSE: 0.000006\n",
            "Epoch 3000/10000 - Training MSE: 0.000006\n",
            "Epoch 4000/10000 - Training MSE: 0.000005\n",
            "Epoch 5000/10000 - Training MSE: 0.000005\n",
            "Epoch 6000/10000 - Training MSE: 0.000005\n",
            "Epoch 7000/10000 - Training MSE: 0.000005\n",
            "Epoch 8000/10000 - Training MSE: 0.000005\n",
            "Epoch 9000/10000 - Training MSE: 0.000005\n",
            "Epoch 10000/10000 - Training MSE: 0.000005\n"
          ]
        }
      ]
    },
    {
      "cell_type": "code",
      "source": [
        "def compute_mse(X, y, W1, b1, W2, b2):\n",
        "    a1 = sigmoid(np.dot(X, W1) + b1)\n",
        "    a2 = np.dot(a1, W2) + b2\n",
        "    mse = np.mean((a2 - y) ** 2)\n",
        "    return mse\n",
        "\n",
        "train_mse = compute_mse(X_train, y_train, W1, b1, W2, b2)\n",
        "test_mse = compute_mse(X_test, y_test, W1, b1, W2, b2)\n",
        "print(f\"\\nFinal Training MSE: {train_mse:.6f}\")\n",
        "print(f\"Final Test MSE: {test_mse:.6f}\")"
      ],
      "metadata": {
        "colab": {
          "base_uri": "https://localhost:8080/"
        },
        "id": "-EbJolUx1dK3",
        "outputId": "89176666-d581-4fcc-a751-fdb92e93f1a6"
      },
      "execution_count": 14,
      "outputs": [
        {
          "output_type": "stream",
          "name": "stdout",
          "text": [
            "\n",
            "Final Training MSE: 0.000005\n",
            "Final Test MSE: 0.000012\n"
          ]
        }
      ]
    },
    {
      "cell_type": "code",
      "source": [
        "def predict(x1, x2):\n",
        "    X_new = np.array([[x1, x2]])\n",
        "    a1 = sigmoid(np.dot(X_new, W1) + b1)\n",
        "    output = np.dot(a1, W2) + b2\n",
        "    return output[0,0]\n",
        "\n",
        "try:\n",
        "    user_x1 = float(input(\"\\nEnter value for x1: \"))\n",
        "    user_x2 = float(input(\"Enter value for x2: \"))\n",
        "    prediction = predict(user_x1, user_x2)\n",
        "    print(f\"\\nPredicted output: {prediction:.6f}\")\n",
        "except Exception as e:\n",
        "    print(\"Invalid input. Please enter numerical values.\")"
      ],
      "metadata": {
        "colab": {
          "base_uri": "https://localhost:8080/"
        },
        "id": "bq1TRCSe1lAb",
        "outputId": "2e877c7c-c65b-47f0-e8b0-6e50dc6225d6"
      },
      "execution_count": 15,
      "outputs": [
        {
          "output_type": "stream",
          "name": "stdout",
          "text": [
            "\n",
            "Enter value for x1: 0.4\n",
            "Enter value for x2: 0.6\n",
            "\n",
            "Predicted output: 0.348359\n"
          ]
        }
      ]
    }
  ]
}